{
 "cells": [
  {
   "cell_type": "markdown",
   "metadata": {},
   "source": [
    "# Deep RL Assignment 1: Imitation Learning\n",
    "The goal of this assignment is to experiment with imitation learning, including direct behavior cloning and the DAgger algorithm. In lieu of a human demonstrator, demonstrations will be provided via an expert policy that we have trained for you. Your goals will be to set up behavior cloning and DAgger, and compare their performance on a few different continuous control tasks from the OpenAI Gym benchmark suite."
   ]
  },
  {
   "cell_type": "markdown",
   "metadata": {},
   "source": [
    "## Section 2: Behavioral Cloning\n",
    "\n",
    "### Section 2.2: Implement behavior cloning and report results on two tasks\n",
    "\n",
    "Here, I run the expert model 20 times to generate 20k expert training data. \n",
    "With **Keras**, I built a a neural network with 4 fully connected hidden layers, 64 neurons per layer for the first 3 layers, and 32 neurons in the last layer,  with “relu” activation. Among the 20k input data,  25% are used as validation data. I repeated training process 10 iterations. "
   ]
  },
  {
   "cell_type": "code",
   "execution_count": 1,
   "metadata": {},
   "outputs": [
    {
     "name": "stderr",
     "output_type": "stream",
     "text": [
      "/anaconda3/lib/python3.6/site-packages/h5py/__init__.py:36: FutureWarning: Conversion of the second argument of issubdtype from `float` to `np.floating` is deprecated. In future, it will be treated as `np.float64 == np.dtype(float).type`.\n",
      "  from ._conv import register_converters as _register_converters\n",
      "Using TensorFlow backend.\n"
     ]
    }
   ],
   "source": [
    "import numpy as np\n",
    "import tensorflow as tf\n",
    "from keras.models import Sequential\n",
    "from keras.layers import Dense, Activation\n",
    "import pickle\n",
    "import gym\n",
    "import argparse\n",
    "import tf_util\n",
    "\n",
    "\n",
    "# load the expert data\n",
    "with open('expert_data/Ant-v2.pkl', 'rb') as f:\n",
    "    data = pickle.load(f)\n",
    "#with open('expert_data/Hopper-v2.pkl', 'rb') as f:\n",
    "#    data = pickle.load(f)\n",
    "\n",
    "observations = data['observations']\n",
    "actions = data['actions']\n",
    "actions = np.reshape(actions, (len(actions), actions.shape[-1]))\n",
    "\n",
    "n_obs = observations.shape[-1]\n",
    "n_act = actions.shape[-1]\n",
    "\n",
    "# build a keras model\n",
    "model = Sequential([\n",
    "    Dense(128, input_shape=(n_obs,)), Activation('relu'),\n",
    "    Dense(128), Activation('relu'),\n",
    "    Dense(128), Activation('relu'),\n",
    "    Dense(128), Activation('relu'),\n",
    "    Dense(n_act)])\n",
    "\n",
    "# For a mean squared error regression problem\n",
    "model.compile(optimizer='rmsprop',\n",
    "              loss='mse')\n",
    "\n"
   ]
  },
  {
   "cell_type": "markdown",
   "metadata": {},
   "source": [
    "Applied neural network to original starting point and compare the sequence.\n",
    "Notice that this step is run in the command line as \"python behave_clone.py Hopper-v2 --render --num_rollouts 20\". This is not easily run in ipython Notebook here because of argparse. Therefore I will skip the following scripts and report the results from the command line."
   ]
  },
  {
   "cell_type": "code",
   "execution_count": null,
   "metadata": {},
   "outputs": [],
   "source": [
    "# run trained model\n",
    "parser = argparse.ArgumentParser()\n",
    "parser.add_argument('envname', type=str)\n",
    "parser.add_argument('--render', action='store_true')\n",
    "parser.add_argument(\"--max_timesteps\", type=int)\n",
    "parser.add_argument('--num_rollouts', type=int, default=20,\n",
    "                    help='Number of expert roll outs')\n",
    "args = parser.parse_args()\n",
    "\n",
    " \n",
    "with tf.Session():\n",
    "    tf_util.initialize()\n",
    "\n",
    "    # Fit the data\n",
    "    model.fit(observations, actions, epochs=20, batch_size=32, validation_split=0.25)\n",
    "\n",
    "    env = gym.make(args.envname)\n",
    "    max_steps = args.max_timesteps or env.spec.timestep_limit\n",
    "\n",
    "    returns = []\n",
    "    observations = []\n",
    "    actions = []\n",
    "\n",
    "    for i in range(args.num_rollouts):\n",
    "        print('iter', i)\n",
    "        obs = env.reset()\n",
    "        done = False\n",
    "        totalr = 0.\n",
    "        steps = 0\n",
    "        while not done:\n",
    "            action = model.predict(obs[None,:])\n",
    "            observations.append(obs)\n",
    "            actions.append([action])\n",
    "            obs, r, done, _ = env.step(action)\n",
    "            totalr += r\n",
    "            steps += 1\n",
    "            if args.render:\n",
    "                env.render()\n",
    "            if steps % 100 == 0: print(\"%i/%i\"%(steps, max_steps))\n",
    "            if steps >= max_steps:\n",
    "                break\n",
    "        returns.append(totalr)\n",
    "    print('returns', returns)\n",
    "    print('mean return', np.mean(returns))\n",
    "    print('std of return', np.std(returns))"
   ]
  },
  {
   "cell_type": "markdown",
   "metadata": {},
   "source": [
    "This is the comparison between expert trainning and behavior cloning.\n",
    "I tested two tasks: Ant and Hopper.\n",
    "You can see that Ant performs well within 5sigma compared with expert,\n",
    "but Hopper doesn't work very well. \n",
    "\n",
    "task\t|               Mean\t|std\n",
    "-          |          -  | - |\n",
    "Ant-expert\t    |        4852|\t90\n",
    "Ant-behavior cloning| \t 4330\t| 117\n",
    "Hopper-expert\t     |     3778\t| 4\n",
    "Hopper-Behavior cloning\t|  350\t| 182"
   ]
  },
  {
   "cell_type": "markdown",
   "metadata": {},
   "source": [
    "## Section 2.3: Experiment with hyperparameter - number of training epochs.\n",
    "\n",
    "Experiment with the hyperparameter - number of training epochs, that affects the performance of the behavioral cloning agent. For the Ant task used in the previous question, I show a graph of how the BC agent’s performance varies with the value of this hyperparameter.\n",
    "\n",
    "The result showing is calcualted using same script in Section 2.2, but with different number of training epochs."
   ]
  },
  {
   "cell_type": "code",
   "execution_count": 11,
   "metadata": {},
   "outputs": [
    {
     "data": {
      "image/png": "[encoded data removed]",
      "text/plain": [
       "<matplotlib.figure.Figure at 0x1830277240>"
      ]
     },
     "metadata": {},
     "output_type": "display_data"
    }
   ],
   "source": [
    "import matplotlib.pyplot as plt\n",
    "real = 4852\n",
    "real_std = 90\n",
    "epochs = [4, 8, 12, 16, 20]\n",
    "means = [2758, 2774, 3905, 4635, 4330]\n",
    "stds = [939, 647, 803, 136, 117]\n",
    "plt.clf()\n",
    "plt.fill_between([0,24],[real-real_std, real-real_std], [real+real_std, real+real_std], color='r', alpha=0.2)\n",
    "plt.plot([0,24],[real,real],ls='-',lw=2,color='r',label='expert')\n",
    "plt.errorbar(epochs, means, yerr=stds, fmt='o', capsize=2,label='behavior cloning')\n",
    "plt.legend()\n",
    "plt.xlabel('epoch')\n",
    "plt.ylabel('position')\n",
    "plt.title('Ant imitation')\n",
    "plt.savefig('bc.png',format='png')\n",
    "plt.show()"
   ]
  },
  {
   "cell_type": "markdown",
   "metadata": {},
   "source": [
    "This plot shows how the how the BC agent’s performance varies with the number of epochs. We can see the Behavior learned position becomes more accurate (approaches the expert position) and prices (smaller standard deviation) as we use more epochs. This is because the more epochs we trained the NN, the better our model is. Therefore hereafter, I will use 16 training epochs."
   ]
  },
  {
   "cell_type": "markdown",
   "metadata": {},
   "source": [
    "## Section 3: DAgger\n",
    "Implemented and run DAgger. Here I'll show a task in which DAgger can learn a better policy than behavioral cloning. In this section, I also use similar dataset and neural network as I mentioned before:  I run the expert model 20 times to generate 20k expert training data. , I built a neural network with 4 fully connected hidden layers, 64 neurons per layer for the first 3 layers, and 32 neurons in the last layer,  with “relu” activation. Among the 20k input data,  25% are used as validation data. Notice that I use epochs = 16 based on previous plot."
   ]
  },
  {
   "cell_type": "code",
   "execution_count": 10,
   "metadata": {},
   "outputs": [],
   "source": [
    "#!/usr/bin/env python\n",
    "\n",
    "\"\"\"\n",
    "Code to load an expert policy and generate roll-out data for behavioral cloning.\n",
    "Example usage:\n",
    "    python run_expert.py experts/Humanoid-v1.pkl Humanoid-v1 --render \\\n",
    "            --num_rollouts 20\n",
    "\n",
    "Author of this script and included expert policies: Jonathan Ho (hoj@openai.com)\n",
    "\"\"\"\n",
    "\n",
    "import os\n",
    "import pickle\n",
    "import tensorflow as tf\n",
    "import numpy as np\n",
    "import tf_util\n",
    "import gym\n",
    "import load_policy\n",
    "import argparse\n",
    "from keras.models import Sequential\n",
    "from keras.layers import Dense, Activation\n",
    "import pdb\n",
    "\n",
    "def main(iters=10):\n",
    "    # load the expert data\n",
    "    with open('expert_data/Hopper-v2.pkl', 'rb') as f:\n",
    "        data = pickle.load(f)\n",
    "    \n",
    "    observations_exp = data['observations']\n",
    "    actions_exp_orig = data['actions']\n",
    "    actions_exp = np.reshape(actions_exp_orig, (len(actions_exp_orig), actions_exp_orig.shape[-1]))\n",
    "    \n",
    "    n_obs = observations_exp.shape[-1]\n",
    "    n_act = actions_exp.shape[-1]\n",
    "    \n",
    "    # build a keras model\n",
    "    model = Sequential([\n",
    "        Dense(64, input_shape=(n_obs,)), Activation('relu'),\n",
    "        Dense(64), Activation('relu'),\n",
    "        Dense(64), Activation('relu'),\n",
    "        Dense(32), Activation('relu'),\n",
    "        Dense(n_act)])\n",
    "    \n",
    "    # For a mean squared error regression problem\n",
    "    model.compile(optimizer='rmsprop',\n",
    "                  loss='mse')\n",
    "    \n",
    "    # run trained model\n",
    "    parser = argparse.ArgumentParser()\n",
    "    parser.add_argument('expert_policy_file', type=str)\n",
    "    parser.add_argument('envname', type=str)\n",
    "    parser.add_argument('--render', action='store_true')\n",
    "    parser.add_argument(\"--max_timesteps\", type=int)\n",
    "    parser.add_argument('--num_rollouts', type=int, default=20,\n",
    "                        help='Number of expert roll outs')\n",
    "    args = parser.parse_args()\n",
    "\n",
    "    print('loading and building expert policy')\n",
    "    policy_fn = load_policy.load_policy(args.expert_policy_file)\n",
    "    print('loaded and built')\n",
    "\n",
    "\n",
    "    import gym\n",
    "    means = []\n",
    "    stds = []\n",
    "    with tf.Session():\n",
    "        tf_util.initialize()\n",
    "        env = gym.make(args.envname)\n",
    "        max_steps = args.max_timesteps or env.spec.timestep_limit\n",
    "        \n",
    "        for it in range(iters):\n",
    "\n",
    "            # Fit the data\n",
    "            model.fit(observations_exp, actions_exp, epochs=16, batch_size=32, validation_split=0.25)\n",
    "\n",
    "            returns = []\n",
    "            new_observations = []\n",
    "            new_actions = []\n",
    "            for i in range(args.num_rollouts):\n",
    "                print('iter', i)\n",
    "                obs = env.reset()\n",
    "                done = False\n",
    "                totalr = 0.\n",
    "                steps = 0\n",
    "                while not done:\n",
    "                    action = model.predict(obs[None,:])\n",
    "                    new_observations.append(obs)\n",
    "                    new_actions.append([action])\n",
    "                    obs, r, done, _ = env.step(action)\n",
    "                    totalr += r\n",
    "                    steps += 1\n",
    "                    if args.render:\n",
    "                        env.render()\n",
    "                    if steps % 100 == 0: print(\"%i/%i\"%(steps, max_steps))\n",
    "                    if steps >= max_steps:\n",
    "                        break\n",
    "                returns.append(totalr)\n",
    "\n",
    "            print('{0} interation'.format(it))\n",
    "            print('returns', returns)\n",
    "            print('mean return', np.mean(returns))\n",
    "            print('std of return', np.std(returns))\n",
    "            means.append(np.mean(returns))\n",
    "            stds.append(np.std(returns))\n",
    "\n",
    "            # add new observations and corresponding expert actions to the original data #observations_exp = list(data['observations'])\n",
    "            #actions_exp = list(data['actions'])\n",
    "            exp_actions = []\n",
    "            for obs in new_observations:\n",
    "                #observations_exp.append(obs)\n",
    "                exp_actions.append(policy_fn(obs[None,:]))\n",
    "\n",
    "            first_dim = np.array(exp_actions).shape[0]\n",
    "            last_dim  = np.array(exp_actions).shape[2]\n",
    "            observations_exp = np.concatenate((observations_exp, np.array(new_observations)), 0)\n",
    "            actions_exp = np.concatenate((actions_exp, np.reshape(np.array(exp_actions), [first_dim, last_dim])), 0)\n",
    "            print(means)\n",
    "            print(stds)\n"
   ]
  },
  {
   "cell_type": "markdown",
   "metadata": {},
   "source": [
    "Similar as before, here I only report the results I ran from calling the previous script in the command line. I plot the number of DAgger iterations vs. the policy’s mean return, with error bars to show the standard deviation. Include the performance of the expert policy and the behavioral cloning agent on the same plot. \n"
   ]
  },
  {
   "cell_type": "code",
   "execution_count": 18,
   "metadata": {},
   "outputs": [
    {
     "data": {
      "image/png": "[encoded data removed]",
      "text/plain": [
       "<matplotlib.figure.Figure at 0x18306bd438>"
      ]
     },
     "metadata": {},
     "output_type": "display_data"
    }
   ],
   "source": [
    "real = 3778\n",
    "real_std = 4\n",
    "bc = 993\n",
    "bc_std = 303\n",
    "means= [993, 945, 3239, 2700, 2423, 3777, 3769, 3776, 3786, 3781]\n",
    "stds=[303, 421, 590, 824, 928, 8, 18, 3, 4.2, 3.5]\n",
    "\n",
    "plt.clf()\n",
    "plt.fill_between([0,24],[real-real_std, real-real_std], [real+real_std, real+real_std], color='r', alpha=0.2)\n",
    "plt.plot([0,24],[real,real],ls='-',lw=2,color='r',label='expert')\n",
    "plt.errorbar(1, bc, yerr=bc_std, fmt='o', capsize=2, label='behavior cloning')\n",
    "plt.errorbar(np.arange(9)+2, means[1:], yerr=stds[1:], fmt='o', capsize=2,label='DAgger')\n",
    "plt.legend()\n",
    "plt.xlabel('iterations')\n",
    "plt.ylabel('position')\n",
    "plt.title(\"Hopper imitation\")\n",
    "plt.savefig('dagger.png',format='png')\n",
    "plt.show()"
   ]
  },
  {
   "cell_type": "code",
   "execution_count": null,
   "metadata": {},
   "outputs": [],
   "source": []
  }
 ],
 "metadata": {
  "kernelspec": {
   "display_name": "Python 3",
   "language": "python",
   "name": "python3"
  },
  "language_info": {
   "codemirror_mode": {
    "name": "ipython",
    "version": 3
   },
   "file_extension": ".py",
   "mimetype": "text/x-python",
   "name": "python",
   "nbconvert_exporter": "python",
   "pygments_lexer": "ipython3",
   "version": "3.6.4"
  }
 },
 "nbformat": 4,
 "nbformat_minor": 2
}
